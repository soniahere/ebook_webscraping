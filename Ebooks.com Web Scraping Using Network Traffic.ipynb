{
 "cells": [
  {
   "cell_type": "markdown",
   "id": "8917481e",
   "metadata": {},
   "source": [
    "# Ebooks.com Web Scraping using network traffic"
   ]
  },
  {
   "cell_type": "markdown",
   "id": "2a775181",
   "metadata": {},
   "source": [
    "![](https://i.imgur.com/uiLHO7j.jpg)"
   ]
  },
  {
   "cell_type": "markdown",
   "id": "e4c05bf6",
   "metadata": {},
   "source": [
    "## 1. Introduction : \n"
   ]
  },
  {
   "cell_type": "markdown",
   "id": "d0e8d123",
   "metadata": {},
   "source": [
    "### 1.1. What is web scraping "
   ]
  },
  {
   "cell_type": "markdown",
   "id": "aee56757",
   "metadata": {},
   "source": [
    "Web scraping is the process of collecting structured web data in an automated fashion. Some of the main use cases of web scraping include price monitoring, price intelligence, news monitoring, lead generation, and market research among many others.\n",
    "\n",
    "In general, web data extraction is used by people and businesses who want to make use of the vast amount of publicly available web data to make smarter decisions.\n",
    "\n",
    "There are a number of tools and methods for performing web scraping; using network traffic, Scrappy, Selenium and Beautiful Soup are the most popular methods. \n"
   ]
  },
  {
   "cell_type": "markdown",
   "id": "6bfd3981",
   "metadata": {},
   "source": [
    "### 1.2. Problem statement "
   ]
  },
  {
   "cell_type": "markdown",
   "id": "32609b99",
   "metadata": {},
   "source": [
    "Nowadays books play a big part in the online markets. The most famouse Book marketplace is Amazon but there are other players that are worth assessing.\n",
    "\n",
    "Data on books in the market, their average price, biggest names and publisher are just some of the point important to assess. \n",
    "\n",
    "eBooks.com is a leading retailer of ebooks, with a vast range of ebooks from academic, popular and professional publishers.\n",
    "\n",
    "Launched in 2000, eBooks.com is a popular ebook retailer. They sell ebooks direct to consumers around the world, with five local sales portals in the US, Canada, UK, Europe and Australia.\n",
    "\n",
    "That's why, we are going to scrape the information on ebooks.com to get information from this page.\n"
   ]
  },
  {
   "cell_type": "markdown",
   "id": "d75d5c58",
   "metadata": {},
   "source": [
    "### 1.3. Tools used in this project"
   ]
  },
  {
   "cell_type": "markdown",
   "id": "3e61c1cd",
   "metadata": {},
   "source": [
    "Most scraping projects use Beautiful Soup but using network traffic can also be used to get the information we need \n",
    "\n",
    "In this project, we are going to use Python as our coding language to scrape. \n",
    "\n",
    "In Python, We will mainly use Requests library to get the information from the websites.\n",
    "\n",
    "Then the information that has been scrapped will be turned into a Pandas DataFrame and then\n",
    "we are going to save the file as CSV. \n",
    "\n"
   ]
  },
  {
   "cell_type": "markdown",
   "id": "eed0d091",
   "metadata": {},
   "source": [
    "## 2. Project Steps:"
   ]
  },
  {
   "cell_type": "markdown",
   "id": "5715fc54",
   "metadata": {},
   "source": [
    "1. Assessing the Disney Movies page on Wikipedia: https://en.wikipedia.org/wiki/List_of_Walt_Disney_Pictures_films \n",
    "2. Scraping all the links to movies on Disney Movies Wikipedia and save it to a CSV file\n",
    "3. Scraping Info-Box of a sample movie\n",
    "4. Extracting all the Info-Boxes of all the movies on Disney Movies Wikipedia automatically (Putting it all together)\n",
    "5. Saving all the scrapped information to a csv file"
   ]
  },
  {
   "cell_type": "code",
   "execution_count": null,
   "id": "23138bcd",
   "metadata": {},
   "outputs": [],
   "source": [
    "#checking inspec - network - fetch/xhr - name - preview and then finding the info we need"
   ]
  },
  {
   "cell_type": "code",
   "execution_count": null,
   "id": "2df4a7d8",
   "metadata": {},
   "outputs": [],
   "source": [
    "# to bring it to python -- right click on the object that we need -- copy -- copy as cURL (cmd)"
   ]
  },
  {
   "cell_type": "code",
   "execution_count": null,
   "id": "8a1fb3b5",
   "metadata": {},
   "outputs": [],
   "source": [
    "# using a cURL converter online - curl.trillworks.com"
   ]
  },
  {
   "cell_type": "markdown",
   "id": "a88aab46",
   "metadata": {},
   "source": [
    "# Imports"
   ]
  },
  {
   "cell_type": "code",
   "execution_count": 4,
   "id": "7ab4f284",
   "metadata": {},
   "outputs": [],
   "source": [
    "import requests\n",
    "import pandas as pd"
   ]
  },
  {
   "cell_type": "markdown",
   "id": "1109cd11",
   "metadata": {},
   "source": [
    "### Requests and cURL"
   ]
  },
  {
   "cell_type": "code",
   "execution_count": 16,
   "id": "6714e4ad",
   "metadata": {},
   "outputs": [],
   "source": [
    "headers = {\n",
    "    'sec-ch-ua': '^\\\\^Chromium^\\\\^;v=^\\\\^92^\\\\^, ^\\\\^',\n",
    "    'Referer': 'https://www.ebooks.com/en-ca/subjects/computers/',\n",
    "    'sec-ch-ua-mobile': '?0',\n",
    "    'User-Agent': 'Mozilla/5.0 (Windows NT 10.0; Win64; x64) AppleWebKit/537.36 (KHTML, like Gecko) Chrome/92.0.4515.159 Safari/537.36',\n",
    "    'Content-Type': 'application/json',\n",
    "}\n",
    "\n",
    "params = (\n",
    "    ('subjectId', '13'),\n",
    "    ('pageNumber', '1'),\n",
    "    ('countryCode', 'CA'),\n",
    ")\n",
    "\n",
    "response =requests.get('https://www.ebooks.com/api/search/subject/', headers=headers, params=params)\n",
    "\n",
    "\n",
    "#NB. Original query string below. It seems impossible to parse and\n",
    "#reproduce query strings 100% accurately so the one below is given\n",
    "#in case the reproduced version is not \"correct\".\n",
    "#response = requests.get('https://www.ebooks.com/api/search/subject/?subjectId=13&pageNumber=1&countryCode=CA', headers=headers)"
   ]
  },
  {
   "cell_type": "markdown",
   "id": "5e8ac9b0",
   "metadata": {},
   "source": [
    "### Status Code"
   ]
  },
  {
   "cell_type": "code",
   "execution_count": 17,
   "id": "8110e600",
   "metadata": {},
   "outputs": [
    {
     "data": {
      "text/plain": [
       "<Response [200]>"
      ]
     },
     "execution_count": 17,
     "metadata": {},
     "output_type": "execute_result"
    }
   ],
   "source": [
    "response"
   ]
  },
  {
   "cell_type": "markdown",
   "id": "9ec4bc7c",
   "metadata": {},
   "source": [
    "### Create Json Object"
   ]
  },
  {
   "cell_type": "code",
   "execution_count": 20,
   "id": "e4b8f620",
   "metadata": {},
   "outputs": [
    {
     "data": {
      "text/plain": [
       "{'pages': [{'number': '1',\n",
       "   'is_selected': True,\n",
       "   'show_mobile': True,\n",
       "   'show_tablet': True,\n",
       "   'search_url': 'https://www.ebooks.com/en-ca/subjects/computers/'},\n",
       "  {'number': '2',\n",
       "   'is_selected': False,\n",
       "   'show_mobile': True,\n",
       "   'show_tablet': True,\n",
       "   'search_url': 'https://www.ebooks.com/en-ca/subjects/computers/?pageNumber=2'},\n",
       "  {'number': '3',\n",
       "   'is_selected': False,\n",
       "   'show_mobile': True,\n",
       "   'show_tablet': True,\n",
       "   'search_url': 'https://www.ebooks.com/en-ca/subjects/computers/?pageNumber=3'},\n",
       "  {'number': '4',\n",
       "   'is_selected': False,\n",
       "   'show_mobile': True,\n",
       "   'show_tablet': True,\n",
       "   'search_url': 'https://www.ebooks.com/en-ca/subjects/computers/?pageNumber=4'},\n",
       "  {'number': '5',\n",
       "   'is_selected': False,\n",
       "   'show_mobile': True,\n",
       "   'show_tablet': True,\n",
       "   'search_url': 'https://www.ebooks.com/en-ca/subjects/computers/?pageNumber=5'},\n",
       "  {'number': '6',\n",
       "   'is_selected': False,\n",
       "   'show_mobile': False,\n",
       "   'show_tablet': True,\n",
       "   'search_url': 'https://www.ebooks.com/en-ca/subjects/computers/?pageNumber=6'},\n",
       "  {'number': '7',\n",
       "   'is_selected': False,\n",
       "   'show_mobile': False,\n",
       "   'show_tablet': True,\n",
       "   'search_url': 'https://www.ebooks.com/en-ca/subjects/computers/?pageNumber=7'},\n",
       "  {'number': '8',\n",
       "   'is_selected': False,\n",
       "   'show_mobile': False,\n",
       "   'show_tablet': True,\n",
       "   'search_url': 'https://www.ebooks.com/en-ca/subjects/computers/?pageNumber=8'},\n",
       "  {'number': '9',\n",
       "   'is_selected': False,\n",
       "   'show_mobile': False,\n",
       "   'show_tablet': False,\n",
       "   'search_url': 'https://www.ebooks.com/en-ca/subjects/computers/?pageNumber=9'}],\n",
       " 'previous_page': None,\n",
       " 'next_page': 'https://www.ebooks.com/en-ca/subjects/computers/?pageNumber=2',\n",
       " 'books': [{'id': 209755044,\n",
       "   'book_url': '/en-ca/book/209755044/dark-data/david-j-hand/',\n",
       "   'image_url': 'https://image.ebooks.com/previews/209/209755/209755044/209755044-sml-1.jpg',\n",
       "   'image_alt_tag': 'Dark Data: Why What You Don&#x2019;t Know Matters',\n",
       "   'title': 'Dark Data',\n",
       "   'edition': '',\n",
       "   'subtitle': 'Why What You Don’t Know Matters',\n",
       "   'authors': [{'author_name': 'David J. Hand',\n",
       "     'author_url': '/en-ca/author/david-j.-hand/165723/'}],\n",
       "   'num_authors': 1,\n",
       "   'series': ' Series',\n",
       "   'series_number': '',\n",
       "   'has_series': False,\n",
       "   'series_url': '',\n",
       "   'publisher': 'Princeton University Press',\n",
       "   'publication_year': '2020',\n",
       "   'price': 'CA$37.30',\n",
       "   'desktop_short_description': 'A practical guide to making good decisions in a world of missing data   In the era of big data, it is easy to imagine that we have all the information we need to make good decisions. But in fact the data we have are never complete, and may be only the tip of the iceberg. Just as much of the universe is composed of dark matter, invisible to us but...',\n",
       "   'mobile_short_description': 'A practical guide to making good decisions in a world of missing data   In the era of big data, it...',\n",
       "   'is_preorder': False,\n",
       "   'is_available': True,\n",
       "   'preorder_url': '/account/preorder/?bookId=209755044',\n",
       "   'add_to_cart_url': '/cart/add/209755044/',\n",
       "   'currency_symbol': 'CA$',\n",
       "   'price_number': 40.99},\n",
       "  {'id': 817871,\n",
       "   'book_url': '/en-ca/book/817871/html-and-css/jon-duckett/',\n",
       "   'image_url': 'https://image.ebooks.com/previews/000/000817/000817871/000817871-sml-1.jpg',\n",
       "   'image_alt_tag': 'HTML and CSS: Design and Build Websites',\n",
       "   'title': 'HTML and CSS',\n",
       "   'edition': '',\n",
       "   'subtitle': 'Design and Build Websites',\n",
       "   'authors': [{'author_name': 'Jon Duckett',\n",
       "     'author_url': '/en-ca/author/jon-duckett/50444/'}],\n",
       "   'num_authors': 1,\n",
       "   'series': ' Series',\n",
       "   'series_number': '',\n",
       "   'has_series': False,\n",
       "   'series_url': '',\n",
       "   'publisher': 'Wiley',\n",
       "   'publication_year': '2011',\n",
       "   'price': 'CA$31.50',\n",
       "   'desktop_short_description': 'A full-color introduction to the basics of HTML and CSS!   Every day, more and more people want to learn some HTML and CSS. Joining the professional web designers and programmers are new audiences who need to know a little bit of code at work (update a content management system or e-commerce store) and those who want to make their personal blogs...',\n",
       "   'mobile_short_description': 'A full-color introduction to the basics of HTML and CSS!   Every day, more and more people want to...',\n",
       "   'is_preorder': False,\n",
       "   'is_available': True,\n",
       "   'preorder_url': '/account/preorder/?bookId=817871',\n",
       "   'add_to_cart_url': '/cart/add/817871/',\n",
       "   'currency_symbol': 'CA$',\n",
       "   'price_number': 35.99},\n",
       "  {'id': 95922373,\n",
       "   'book_url': '/en-ca/book/95922373/linux-basics-for-hackers/occupytheweb/',\n",
       "   'image_url': 'https://image.ebooks.com/previews/095/095922/095922373/095922373-sml-1.jpg',\n",
       "   'image_alt_tag': 'Linux Basics for Hackers: Getting Started with Networking, Scripting, and Security in Kali',\n",
       "   'title': 'Linux Basics for Hackers',\n",
       "   'edition': '',\n",
       "   'subtitle': 'Getting Started with Networking, Scripting, and Security in Kali',\n",
       "   'authors': [{'author_name': 'OccupyTheWeb',\n",
       "     'author_url': '/en-ca/author/occupytheweb/94218147/'}],\n",
       "   'num_authors': 1,\n",
       "   'series': ' Series',\n",
       "   'series_number': '',\n",
       "   'has_series': False,\n",
       "   'series_url': '',\n",
       "   'publisher': 'No Starch Press',\n",
       "   'publication_year': '2018',\n",
       "   'price': 'CA$36.95',\n",
       "   'desktop_short_description': \"This practical, tutorial-style book uses the Kali Linux distribution to teach Linux basics with a focus on how hackers would use them. Topics include Linux command line basics, filesystems, networking, BASH basics, package management, logging, and the Linux kernel and drivers.   If you're getting started along the exciting path of hacking,...\",\n",
       "   'mobile_short_description': 'This practical, tutorial-style book uses the Kali Linux distribution to teach Linux basics with a...',\n",
       "   'is_preorder': False,\n",
       "   'is_available': True,\n",
       "   'preorder_url': '/account/preorder/?bookId=95922373',\n",
       "   'add_to_cart_url': '/cart/add/95922373/',\n",
       "   'currency_symbol': 'CA$',\n",
       "   'price_number': 36.95},\n",
       "  {'id': 209980266,\n",
       "   'book_url': '/en-ca/book/209980266/effective-seo-and-content-marketing/nicholas-papagiannis/',\n",
       "   'image_url': 'https://image.ebooks.com/previews/209/209980/209980266/209980266-sml-1.jpg',\n",
       "   'image_alt_tag': 'Effective SEO and Content Marketing: The Ultimate Guide for Maximizing Free Web Traffic',\n",
       "   'title': 'Effective SEO and Content Marketing',\n",
       "   'edition': '',\n",
       "   'subtitle': 'The Ultimate Guide for Maximizing Free Web Traffic',\n",
       "   'authors': [{'author_name': 'Nicholas Papagiannis',\n",
       "     'author_url': '/en-ca/author/nicholas-papagiannis/208382552/'}],\n",
       "   'num_authors': 1,\n",
       "   'series': ' Series',\n",
       "   'series_number': '',\n",
       "   'has_series': False,\n",
       "   'series_url': '',\n",
       "   'publisher': 'Wiley',\n",
       "   'publication_year': '2020',\n",
       "   'price': 'CA$47.50',\n",
       "   'desktop_short_description': 'Get beyond the basics and see how modern-day users are reimaging the SEO process    SEO is often underutilized and overlooked across the marketing realm today. SEO is not merely trying to improve your website ranking on Google, but it can spark and optimize ideas.\\xa0 Above all it can help improve the amount of free traffic coming to your web...',\n",
       "   'mobile_short_description': 'Get beyond the basics and see how modern-day users are reimaging the SEO process    SEO is often...',\n",
       "   'is_preorder': False,\n",
       "   'is_available': True,\n",
       "   'preorder_url': '/account/preorder/?bookId=209980266',\n",
       "   'add_to_cart_url': '/cart/add/209980266/',\n",
       "   'currency_symbol': 'CA$',\n",
       "   'price_number': 53.99},\n",
       "  {'id': 589081,\n",
       "   'book_url': '/en-ca/book/589081/the-dragonfly-effect/jennifer-aaker/',\n",
       "   'image_url': 'https://image.ebooks.com/previews/000/000589/000589081/000589081-sml-1.jpg',\n",
       "   'image_alt_tag': 'The Dragonfly Effect: Quick, Effective, and Powerful Ways To Use Social Media to Drive Social Change',\n",
       "   'title': 'The Dragonfly Effect',\n",
       "   'edition': '',\n",
       "   'subtitle': 'Quick, Effective, and Powerful Ways To Use Social Media to Drive Social Change',\n",
       "   'authors': [{'author_name': 'Jennifer Aaker',\n",
       "     'author_url': '/en-ca/author/jennifer-aaker/264487/'},\n",
       "    {'author_name': 'Andy Smith',\n",
       "     'author_url': '/en-ca/author/andy-smith/36949/'}],\n",
       "   'num_authors': 5,\n",
       "   'series': ' Series',\n",
       "   'series_number': '',\n",
       "   'has_series': False,\n",
       "   'series_url': '',\n",
       "   'publisher': 'Wiley',\n",
       "   'publication_year': '2010',\n",
       "   'price': 'CA$26.99',\n",
       "   'desktop_short_description': 'Proven strategies for harnessing the power of social media to drive social change   Many books teach the mechanics of using Facebook, Twitter, and YouTube to compete in business. But no book addresses how to harness the incredible power of social media to make a difference.  The Dragonfly Effect  shows you how to tap social media and consumer...',\n",
       "   'mobile_short_description': 'Proven strategies for harnessing the power of social media to drive social change   Many books teach...',\n",
       "   'is_preorder': False,\n",
       "   'is_available': True,\n",
       "   'preorder_url': '/account/preorder/?bookId=589081',\n",
       "   'add_to_cart_url': '/cart/add/589081/',\n",
       "   'currency_symbol': 'CA$',\n",
       "   'price_number': 30.95},\n",
       "  {'id': 138564495,\n",
       "   'book_url': '/en-ca/book/138564495/business-analysis/debra-paul/',\n",
       "   'image_url': 'https://image.ebooks.com/previews/138/138564/138564495/138564495-sml-1.jpg',\n",
       "   'image_alt_tag': 'Business Analysis',\n",
       "   'title': 'Business Analysis',\n",
       "   'edition': ' (3rd ed.)',\n",
       "   'subtitle': '',\n",
       "   'authors': [{'author_name': 'Debra Paul',\n",
       "     'author_url': '/en-ca/author/debra-paul/206241/'},\n",
       "    {'author_name': 'James Cadle',\n",
       "     'author_url': '/en-ca/author/james-cadle/206243/'}],\n",
       "   'num_authors': 10,\n",
       "   'series': ' Series',\n",
       "   'series_number': '',\n",
       "   'has_series': False,\n",
       "   'series_url': '',\n",
       "   'publisher': 'BCS Learning & Development Limited',\n",
       "   'publication_year': '2014',\n",
       "   'price': 'CA$57.87',\n",
       "   'desktop_short_description': \"Business analysts must respond to today's challenges by developing practical, creative and financially sound solutions. They need look no further for the necessary tools. This new edition of the bestselling BA guide includes the impact of Agile, an introduction to business architecture and expanded material on gap analysis and benefits management.\",\n",
       "   'mobile_short_description': \"Business analysts must respond to today's challenges by developing practical, creative and...\",\n",
       "   'is_preorder': False,\n",
       "   'is_available': True,\n",
       "   'preorder_url': '/account/preorder/?bookId=138564495',\n",
       "   'add_to_cart_url': '/cart/add/138564495/',\n",
       "   'currency_symbol': 'CA$',\n",
       "   'price_number': 57.86671072},\n",
       "  {'id': 209657952,\n",
       "   'book_url': '/en-ca/book/209657952/the-official-isc-2-guide-to-the-cissp-cbk-reference/john-warsinske/',\n",
       "   'image_url': 'https://image.ebooks.com/previews/209/209657/209657952/209657952-sml-1.jpg',\n",
       "   'image_alt_tag': 'The Official (ISC)2 Guide to the CISSP CBK Reference',\n",
       "   'title': 'The Official (ISC)2 Guide to the CISSP CBK Reference',\n",
       "   'edition': ' (5th ed.)',\n",
       "   'subtitle': '',\n",
       "   'authors': [{'author_name': 'John Warsinske',\n",
       "     'author_url': '/en-ca/author/john-warsinske/208227406/'},\n",
       "    {'author_name': 'Mark Graff',\n",
       "     'author_url': '/en-ca/author/mark-graff/208227407/'}],\n",
       "   'num_authors': 11,\n",
       "   'series': ' Series',\n",
       "   'series_number': '',\n",
       "   'has_series': False,\n",
       "   'series_url': '',\n",
       "   'publisher': 'Wiley',\n",
       "   'publication_year': '2019',\n",
       "   'price': 'CA$97.20',\n",
       "   'desktop_short_description': 'The only official, comprehensive reference guide to the CISSP    All new for 2019 and beyond, this is the authoritative common body of knowledge (CBK) from (ISC) 2  for information security professionals charged with designing, engineering, implementing, and managing the overall information security program to protect organizations from...',\n",
       "   'mobile_short_description': 'The only official, comprehensive reference guide to the CISSP    All new for 2019 and beyond, this...',\n",
       "   'is_preorder': False,\n",
       "   'is_available': True,\n",
       "   'preorder_url': '/account/preorder/?bookId=209657952',\n",
       "   'add_to_cart_url': '/cart/add/209657952/',\n",
       "   'currency_symbol': 'CA$',\n",
       "   'price_number': 108.0},\n",
       "  {'id': 1895068,\n",
       "   'book_url': '/en-ca/book/1895068/patterns-principles-and-practices-of-domain-driven-design/scott-millett/',\n",
       "   'image_url': 'https://image.ebooks.com/previews/001/001895/001895068/001895068-sml-1.jpg',\n",
       "   'image_alt_tag': 'Patterns, Principles, and Practices of Domain-Driven Design',\n",
       "   'title': 'Patterns, Principles, and Practices of Domain-Driven Design',\n",
       "   'edition': '',\n",
       "   'subtitle': '',\n",
       "   'authors': [{'author_name': 'Scott Millett',\n",
       "     'author_url': '/en-ca/author/scott-millett/195586/'},\n",
       "    {'author_name': 'Nick Tune',\n",
       "     'author_url': '/en-ca/author/nick-tune/937971/'}],\n",
       "   'num_authors': 2,\n",
       "   'series': ' Series',\n",
       "   'series_number': '',\n",
       "   'has_series': False,\n",
       "   'series_url': '',\n",
       "   'publisher': 'Wiley',\n",
       "   'publication_year': '2015',\n",
       "   'price': 'CA$63.50',\n",
       "   'desktop_short_description': 'Methods for managing complex software construction following the practices, principles and patterns of Domain-Driven Design with code examples in C#     This book presents the philosophy of Domain-Driven Design (DDD) in a down-to-earth and practical manner for experienced developers building applications for complex domains. A focus is placed on...',\n",
       "   'mobile_short_description': 'Methods for managing complex software construction following the practices, principles and patterns...',\n",
       "   'is_preorder': False,\n",
       "   'is_available': True,\n",
       "   'preorder_url': '/account/preorder/?bookId=1895068',\n",
       "   'add_to_cart_url': '/cart/add/1895068/',\n",
       "   'currency_symbol': 'CA$',\n",
       "   'price_number': 71.99},\n",
       "  {'id': 210124083,\n",
       "   'book_url': '/en-ca/book/210124083/comptia-security-sy0-601-exam-cram/martin-m-weiss/',\n",
       "   'image_url': 'https://image.ebooks.com/previews/210/210124/210124083/210124083-sml-1.jpg',\n",
       "   'image_alt_tag': 'CompTIA Security&#x2B; SY0-601 Exam Cram',\n",
       "   'title': 'CompTIA Security+ SY0-601 Exam Cram',\n",
       "   'edition': ' (6th ed.)',\n",
       "   'subtitle': '',\n",
       "   'authors': [{'author_name': 'Martin M. Weiss',\n",
       "     'author_url': '/en-ca/author/martin-m.-weiss/94214231/'}],\n",
       "   'num_authors': 1,\n",
       "   'series': ' Series',\n",
       "   'series_number': '',\n",
       "   'has_series': False,\n",
       "   'series_url': '',\n",
       "   'publisher': 'Pearson Education',\n",
       "   'publication_year': '2020',\n",
       "   'price': 'CA$45.11',\n",
       "   'desktop_short_description': 'Prepare for CompTIA Security+ SY0-601 exam success with this Exam Cram from Pearson IT Certification, a leader in IT certification.                    This is the eBook edition of the   CompTIA Security+ SY0-601 Exam Cram , Sixth Edition. This eBook does not include access to the Pearson Test Prep practice exams that comes with the print edition.  ...',\n",
       "   'mobile_short_description': 'Prepare for CompTIA Security+ SY0-601 exam success with this Exam Cram from Pearson IT...',\n",
       "   'is_preorder': False,\n",
       "   'is_available': True,\n",
       "   'preorder_url': '/account/preorder/?bookId=210124083',\n",
       "   'add_to_cart_url': '/cart/add/210124083/',\n",
       "   'currency_symbol': 'CA$',\n",
       "   'price_number': 45.1080665},\n",
       "  {'id': 1882237,\n",
       "   'book_url': '/en-ca/book/1882237/oca-oracle-certified-associate-java-se-8-programmer-i-study-guide/jeanne-boyarsky/',\n",
       "   'image_url': 'https://image.ebooks.com/previews/001/001882/001882237/001882237-sml-1.jpg',\n",
       "   'image_alt_tag': 'OCA: Oracle Certified Associate Java SE 8 Programmer I Study Guide: Exam 1Z0-808',\n",
       "   'title': 'OCA: Oracle Certified Associate Java SE 8 Programmer I Study Guide',\n",
       "   'edition': '',\n",
       "   'subtitle': 'Exam 1Z0-808',\n",
       "   'authors': [{'author_name': 'Jeanne Boyarsky',\n",
       "     'author_url': '/en-ca/author/jeanne-boyarsky/857485/'},\n",
       "    {'author_name': 'Scott Selikoff',\n",
       "     'author_url': '/en-ca/author/scott-selikoff/857486/'}],\n",
       "   'num_authors': 2,\n",
       "   'series': ' Series',\n",
       "   'series_number': '',\n",
       "   'has_series': False,\n",
       "   'series_url': '',\n",
       "   'publisher': 'Wiley',\n",
       "   'publication_year': '2014',\n",
       "   'price': 'CA$63.50',\n",
       "   'desktop_short_description': 'Full coverage of functional programming and all OCA Java Programmer exam objectives    OCA, Oracle Certified Associate Java SE 8 Programmer I Study Guide, Exam 1Z0-808  is a comprehensive study guide for those taking the Oracle Certified Associate Java SE 8 Programmer I exam (1Z0-808). With complete coverage of 100% of the exam objectives, this...',\n",
       "   'mobile_short_description': 'Full coverage of functional programming and all OCA Java Programmer exam objectives    OCA, Oracle...',\n",
       "   'is_preorder': False,\n",
       "   'is_available': True,\n",
       "   'preorder_url': '/account/preorder/?bookId=1882237',\n",
       "   'add_to_cart_url': '/cart/add/1882237/',\n",
       "   'currency_symbol': 'CA$',\n",
       "   'price_number': 71.99}],\n",
       " 'result_page_range': '1 - 10 of 77484 results'}"
      ]
     },
     "execution_count": 20,
     "metadata": {},
     "output_type": "execute_result"
    }
   ],
   "source": [
    "json_response =response.json()\n",
    "json_response\n",
    "#check a couple of books to see we have the file"
   ]
  },
  {
   "cell_type": "code",
   "execution_count": 21,
   "id": "e93a08bd",
   "metadata": {},
   "outputs": [
    {
     "data": {
      "text/plain": [
       "dict"
      ]
     },
     "execution_count": 21,
     "metadata": {},
     "output_type": "execute_result"
    }
   ],
   "source": [
    "# check what type of object is our json\n",
    "\n",
    "type(json_response)"
   ]
  },
  {
   "cell_type": "markdown",
   "id": "5bad5194",
   "metadata": {},
   "source": [
    "### extracting the keys of the json file"
   ]
  },
  {
   "cell_type": "code",
   "execution_count": 23,
   "id": "e8cbaf5f",
   "metadata": {},
   "outputs": [
    {
     "data": {
      "text/plain": [
       "dict_keys(['pages', 'previous_page', 'next_page', 'books', 'result_page_range'])"
      ]
     },
     "execution_count": 23,
     "metadata": {},
     "output_type": "execute_result"
    }
   ],
   "source": [
    "json_response.keys()\n",
    "\n",
    "#the same number of keys as the ones in the network header in page\n",
    "\n",
    "#the info we need as shown on the page is in \"books\" key values"
   ]
  },
  {
   "cell_type": "markdown",
   "id": "832e2b99",
   "metadata": {},
   "source": [
    "### extracting data from json file"
   ]
  },
  {
   "cell_type": "code",
   "execution_count": null,
   "id": "98cda5b9",
   "metadata": {},
   "outputs": [],
   "source": [
    "# the information we are going to get from the json is :\n",
    "# title\n",
    "# subtitle\n",
    "# author\n",
    "# publisher\n",
    "# publication date\n",
    "# price "
   ]
  },
  {
   "cell_type": "code",
   "execution_count": 26,
   "id": "b949acec",
   "metadata": {},
   "outputs": [
    {
     "data": {
      "text/plain": [
       "[{'id': 209755044,\n",
       "  'book_url': '/en-ca/book/209755044/dark-data/david-j-hand/',\n",
       "  'image_url': 'https://image.ebooks.com/previews/209/209755/209755044/209755044-sml-1.jpg',\n",
       "  'image_alt_tag': 'Dark Data: Why What You Don&#x2019;t Know Matters',\n",
       "  'title': 'Dark Data',\n",
       "  'edition': '',\n",
       "  'subtitle': 'Why What You Don’t Know Matters',\n",
       "  'authors': [{'author_name': 'David J. Hand',\n",
       "    'author_url': '/en-ca/author/david-j.-hand/165723/'}],\n",
       "  'num_authors': 1,\n",
       "  'series': ' Series',\n",
       "  'series_number': '',\n",
       "  'has_series': False,\n",
       "  'series_url': '',\n",
       "  'publisher': 'Princeton University Press',\n",
       "  'publication_year': '2020',\n",
       "  'price': 'CA$37.30',\n",
       "  'desktop_short_description': 'A practical guide to making good decisions in a world of missing data   In the era of big data, it is easy to imagine that we have all the information we need to make good decisions. But in fact the data we have are never complete, and may be only the tip of the iceberg. Just as much of the universe is composed of dark matter, invisible to us but...',\n",
       "  'mobile_short_description': 'A practical guide to making good decisions in a world of missing data   In the era of big data, it...',\n",
       "  'is_preorder': False,\n",
       "  'is_available': True,\n",
       "  'preorder_url': '/account/preorder/?bookId=209755044',\n",
       "  'add_to_cart_url': '/cart/add/209755044/',\n",
       "  'currency_symbol': 'CA$',\n",
       "  'price_number': 40.99},\n",
       " {'id': 817871,\n",
       "  'book_url': '/en-ca/book/817871/html-and-css/jon-duckett/',\n",
       "  'image_url': 'https://image.ebooks.com/previews/000/000817/000817871/000817871-sml-1.jpg',\n",
       "  'image_alt_tag': 'HTML and CSS: Design and Build Websites',\n",
       "  'title': 'HTML and CSS',\n",
       "  'edition': '',\n",
       "  'subtitle': 'Design and Build Websites',\n",
       "  'authors': [{'author_name': 'Jon Duckett',\n",
       "    'author_url': '/en-ca/author/jon-duckett/50444/'}],\n",
       "  'num_authors': 1,\n",
       "  'series': ' Series',\n",
       "  'series_number': '',\n",
       "  'has_series': False,\n",
       "  'series_url': '',\n",
       "  'publisher': 'Wiley',\n",
       "  'publication_year': '2011',\n",
       "  'price': 'CA$31.50',\n",
       "  'desktop_short_description': 'A full-color introduction to the basics of HTML and CSS!   Every day, more and more people want to learn some HTML and CSS. Joining the professional web designers and programmers are new audiences who need to know a little bit of code at work (update a content management system or e-commerce store) and those who want to make their personal blogs...',\n",
       "  'mobile_short_description': 'A full-color introduction to the basics of HTML and CSS!   Every day, more and more people want to...',\n",
       "  'is_preorder': False,\n",
       "  'is_available': True,\n",
       "  'preorder_url': '/account/preorder/?bookId=817871',\n",
       "  'add_to_cart_url': '/cart/add/817871/',\n",
       "  'currency_symbol': 'CA$',\n",
       "  'price_number': 35.99},\n",
       " {'id': 95922373,\n",
       "  'book_url': '/en-ca/book/95922373/linux-basics-for-hackers/occupytheweb/',\n",
       "  'image_url': 'https://image.ebooks.com/previews/095/095922/095922373/095922373-sml-1.jpg',\n",
       "  'image_alt_tag': 'Linux Basics for Hackers: Getting Started with Networking, Scripting, and Security in Kali',\n",
       "  'title': 'Linux Basics for Hackers',\n",
       "  'edition': '',\n",
       "  'subtitle': 'Getting Started with Networking, Scripting, and Security in Kali',\n",
       "  'authors': [{'author_name': 'OccupyTheWeb',\n",
       "    'author_url': '/en-ca/author/occupytheweb/94218147/'}],\n",
       "  'num_authors': 1,\n",
       "  'series': ' Series',\n",
       "  'series_number': '',\n",
       "  'has_series': False,\n",
       "  'series_url': '',\n",
       "  'publisher': 'No Starch Press',\n",
       "  'publication_year': '2018',\n",
       "  'price': 'CA$36.95',\n",
       "  'desktop_short_description': \"This practical, tutorial-style book uses the Kali Linux distribution to teach Linux basics with a focus on how hackers would use them. Topics include Linux command line basics, filesystems, networking, BASH basics, package management, logging, and the Linux kernel and drivers.   If you're getting started along the exciting path of hacking,...\",\n",
       "  'mobile_short_description': 'This practical, tutorial-style book uses the Kali Linux distribution to teach Linux basics with a...',\n",
       "  'is_preorder': False,\n",
       "  'is_available': True,\n",
       "  'preorder_url': '/account/preorder/?bookId=95922373',\n",
       "  'add_to_cart_url': '/cart/add/95922373/',\n",
       "  'currency_symbol': 'CA$',\n",
       "  'price_number': 36.95},\n",
       " {'id': 209980266,\n",
       "  'book_url': '/en-ca/book/209980266/effective-seo-and-content-marketing/nicholas-papagiannis/',\n",
       "  'image_url': 'https://image.ebooks.com/previews/209/209980/209980266/209980266-sml-1.jpg',\n",
       "  'image_alt_tag': 'Effective SEO and Content Marketing: The Ultimate Guide for Maximizing Free Web Traffic',\n",
       "  'title': 'Effective SEO and Content Marketing',\n",
       "  'edition': '',\n",
       "  'subtitle': 'The Ultimate Guide for Maximizing Free Web Traffic',\n",
       "  'authors': [{'author_name': 'Nicholas Papagiannis',\n",
       "    'author_url': '/en-ca/author/nicholas-papagiannis/208382552/'}],\n",
       "  'num_authors': 1,\n",
       "  'series': ' Series',\n",
       "  'series_number': '',\n",
       "  'has_series': False,\n",
       "  'series_url': '',\n",
       "  'publisher': 'Wiley',\n",
       "  'publication_year': '2020',\n",
       "  'price': 'CA$47.50',\n",
       "  'desktop_short_description': 'Get beyond the basics and see how modern-day users are reimaging the SEO process    SEO is often underutilized and overlooked across the marketing realm today. SEO is not merely trying to improve your website ranking on Google, but it can spark and optimize ideas.\\xa0 Above all it can help improve the amount of free traffic coming to your web...',\n",
       "  'mobile_short_description': 'Get beyond the basics and see how modern-day users are reimaging the SEO process    SEO is often...',\n",
       "  'is_preorder': False,\n",
       "  'is_available': True,\n",
       "  'preorder_url': '/account/preorder/?bookId=209980266',\n",
       "  'add_to_cart_url': '/cart/add/209980266/',\n",
       "  'currency_symbol': 'CA$',\n",
       "  'price_number': 53.99},\n",
       " {'id': 589081,\n",
       "  'book_url': '/en-ca/book/589081/the-dragonfly-effect/jennifer-aaker/',\n",
       "  'image_url': 'https://image.ebooks.com/previews/000/000589/000589081/000589081-sml-1.jpg',\n",
       "  'image_alt_tag': 'The Dragonfly Effect: Quick, Effective, and Powerful Ways To Use Social Media to Drive Social Change',\n",
       "  'title': 'The Dragonfly Effect',\n",
       "  'edition': '',\n",
       "  'subtitle': 'Quick, Effective, and Powerful Ways To Use Social Media to Drive Social Change',\n",
       "  'authors': [{'author_name': 'Jennifer Aaker',\n",
       "    'author_url': '/en-ca/author/jennifer-aaker/264487/'},\n",
       "   {'author_name': 'Andy Smith',\n",
       "    'author_url': '/en-ca/author/andy-smith/36949/'}],\n",
       "  'num_authors': 5,\n",
       "  'series': ' Series',\n",
       "  'series_number': '',\n",
       "  'has_series': False,\n",
       "  'series_url': '',\n",
       "  'publisher': 'Wiley',\n",
       "  'publication_year': '2010',\n",
       "  'price': 'CA$26.99',\n",
       "  'desktop_short_description': 'Proven strategies for harnessing the power of social media to drive social change   Many books teach the mechanics of using Facebook, Twitter, and YouTube to compete in business. But no book addresses how to harness the incredible power of social media to make a difference.  The Dragonfly Effect  shows you how to tap social media and consumer...',\n",
       "  'mobile_short_description': 'Proven strategies for harnessing the power of social media to drive social change   Many books teach...',\n",
       "  'is_preorder': False,\n",
       "  'is_available': True,\n",
       "  'preorder_url': '/account/preorder/?bookId=589081',\n",
       "  'add_to_cart_url': '/cart/add/589081/',\n",
       "  'currency_symbol': 'CA$',\n",
       "  'price_number': 30.95},\n",
       " {'id': 138564495,\n",
       "  'book_url': '/en-ca/book/138564495/business-analysis/debra-paul/',\n",
       "  'image_url': 'https://image.ebooks.com/previews/138/138564/138564495/138564495-sml-1.jpg',\n",
       "  'image_alt_tag': 'Business Analysis',\n",
       "  'title': 'Business Analysis',\n",
       "  'edition': ' (3rd ed.)',\n",
       "  'subtitle': '',\n",
       "  'authors': [{'author_name': 'Debra Paul',\n",
       "    'author_url': '/en-ca/author/debra-paul/206241/'},\n",
       "   {'author_name': 'James Cadle',\n",
       "    'author_url': '/en-ca/author/james-cadle/206243/'}],\n",
       "  'num_authors': 10,\n",
       "  'series': ' Series',\n",
       "  'series_number': '',\n",
       "  'has_series': False,\n",
       "  'series_url': '',\n",
       "  'publisher': 'BCS Learning & Development Limited',\n",
       "  'publication_year': '2014',\n",
       "  'price': 'CA$57.87',\n",
       "  'desktop_short_description': \"Business analysts must respond to today's challenges by developing practical, creative and financially sound solutions. They need look no further for the necessary tools. This new edition of the bestselling BA guide includes the impact of Agile, an introduction to business architecture and expanded material on gap analysis and benefits management.\",\n",
       "  'mobile_short_description': \"Business analysts must respond to today's challenges by developing practical, creative and...\",\n",
       "  'is_preorder': False,\n",
       "  'is_available': True,\n",
       "  'preorder_url': '/account/preorder/?bookId=138564495',\n",
       "  'add_to_cart_url': '/cart/add/138564495/',\n",
       "  'currency_symbol': 'CA$',\n",
       "  'price_number': 57.86671072},\n",
       " {'id': 209657952,\n",
       "  'book_url': '/en-ca/book/209657952/the-official-isc-2-guide-to-the-cissp-cbk-reference/john-warsinske/',\n",
       "  'image_url': 'https://image.ebooks.com/previews/209/209657/209657952/209657952-sml-1.jpg',\n",
       "  'image_alt_tag': 'The Official (ISC)2 Guide to the CISSP CBK Reference',\n",
       "  'title': 'The Official (ISC)2 Guide to the CISSP CBK Reference',\n",
       "  'edition': ' (5th ed.)',\n",
       "  'subtitle': '',\n",
       "  'authors': [{'author_name': 'John Warsinske',\n",
       "    'author_url': '/en-ca/author/john-warsinske/208227406/'},\n",
       "   {'author_name': 'Mark Graff',\n",
       "    'author_url': '/en-ca/author/mark-graff/208227407/'}],\n",
       "  'num_authors': 11,\n",
       "  'series': ' Series',\n",
       "  'series_number': '',\n",
       "  'has_series': False,\n",
       "  'series_url': '',\n",
       "  'publisher': 'Wiley',\n",
       "  'publication_year': '2019',\n",
       "  'price': 'CA$97.20',\n",
       "  'desktop_short_description': 'The only official, comprehensive reference guide to the CISSP    All new for 2019 and beyond, this is the authoritative common body of knowledge (CBK) from (ISC) 2  for information security professionals charged with designing, engineering, implementing, and managing the overall information security program to protect organizations from...',\n",
       "  'mobile_short_description': 'The only official, comprehensive reference guide to the CISSP    All new for 2019 and beyond, this...',\n",
       "  'is_preorder': False,\n",
       "  'is_available': True,\n",
       "  'preorder_url': '/account/preorder/?bookId=209657952',\n",
       "  'add_to_cart_url': '/cart/add/209657952/',\n",
       "  'currency_symbol': 'CA$',\n",
       "  'price_number': 108.0},\n",
       " {'id': 1895068,\n",
       "  'book_url': '/en-ca/book/1895068/patterns-principles-and-practices-of-domain-driven-design/scott-millett/',\n",
       "  'image_url': 'https://image.ebooks.com/previews/001/001895/001895068/001895068-sml-1.jpg',\n",
       "  'image_alt_tag': 'Patterns, Principles, and Practices of Domain-Driven Design',\n",
       "  'title': 'Patterns, Principles, and Practices of Domain-Driven Design',\n",
       "  'edition': '',\n",
       "  'subtitle': '',\n",
       "  'authors': [{'author_name': 'Scott Millett',\n",
       "    'author_url': '/en-ca/author/scott-millett/195586/'},\n",
       "   {'author_name': 'Nick Tune',\n",
       "    'author_url': '/en-ca/author/nick-tune/937971/'}],\n",
       "  'num_authors': 2,\n",
       "  'series': ' Series',\n",
       "  'series_number': '',\n",
       "  'has_series': False,\n",
       "  'series_url': '',\n",
       "  'publisher': 'Wiley',\n",
       "  'publication_year': '2015',\n",
       "  'price': 'CA$63.50',\n",
       "  'desktop_short_description': 'Methods for managing complex software construction following the practices, principles and patterns of Domain-Driven Design with code examples in C#     This book presents the philosophy of Domain-Driven Design (DDD) in a down-to-earth and practical manner for experienced developers building applications for complex domains. A focus is placed on...',\n",
       "  'mobile_short_description': 'Methods for managing complex software construction following the practices, principles and patterns...',\n",
       "  'is_preorder': False,\n",
       "  'is_available': True,\n",
       "  'preorder_url': '/account/preorder/?bookId=1895068',\n",
       "  'add_to_cart_url': '/cart/add/1895068/',\n",
       "  'currency_symbol': 'CA$',\n",
       "  'price_number': 71.99},\n",
       " {'id': 210124083,\n",
       "  'book_url': '/en-ca/book/210124083/comptia-security-sy0-601-exam-cram/martin-m-weiss/',\n",
       "  'image_url': 'https://image.ebooks.com/previews/210/210124/210124083/210124083-sml-1.jpg',\n",
       "  'image_alt_tag': 'CompTIA Security&#x2B; SY0-601 Exam Cram',\n",
       "  'title': 'CompTIA Security+ SY0-601 Exam Cram',\n",
       "  'edition': ' (6th ed.)',\n",
       "  'subtitle': '',\n",
       "  'authors': [{'author_name': 'Martin M. Weiss',\n",
       "    'author_url': '/en-ca/author/martin-m.-weiss/94214231/'}],\n",
       "  'num_authors': 1,\n",
       "  'series': ' Series',\n",
       "  'series_number': '',\n",
       "  'has_series': False,\n",
       "  'series_url': '',\n",
       "  'publisher': 'Pearson Education',\n",
       "  'publication_year': '2020',\n",
       "  'price': 'CA$45.11',\n",
       "  'desktop_short_description': 'Prepare for CompTIA Security+ SY0-601 exam success with this Exam Cram from Pearson IT Certification, a leader in IT certification.                    This is the eBook edition of the   CompTIA Security+ SY0-601 Exam Cram , Sixth Edition. This eBook does not include access to the Pearson Test Prep practice exams that comes with the print edition.  ...',\n",
       "  'mobile_short_description': 'Prepare for CompTIA Security+ SY0-601 exam success with this Exam Cram from Pearson IT...',\n",
       "  'is_preorder': False,\n",
       "  'is_available': True,\n",
       "  'preorder_url': '/account/preorder/?bookId=210124083',\n",
       "  'add_to_cart_url': '/cart/add/210124083/',\n",
       "  'currency_symbol': 'CA$',\n",
       "  'price_number': 45.1080665},\n",
       " {'id': 1882237,\n",
       "  'book_url': '/en-ca/book/1882237/oca-oracle-certified-associate-java-se-8-programmer-i-study-guide/jeanne-boyarsky/',\n",
       "  'image_url': 'https://image.ebooks.com/previews/001/001882/001882237/001882237-sml-1.jpg',\n",
       "  'image_alt_tag': 'OCA: Oracle Certified Associate Java SE 8 Programmer I Study Guide: Exam 1Z0-808',\n",
       "  'title': 'OCA: Oracle Certified Associate Java SE 8 Programmer I Study Guide',\n",
       "  'edition': '',\n",
       "  'subtitle': 'Exam 1Z0-808',\n",
       "  'authors': [{'author_name': 'Jeanne Boyarsky',\n",
       "    'author_url': '/en-ca/author/jeanne-boyarsky/857485/'},\n",
       "   {'author_name': 'Scott Selikoff',\n",
       "    'author_url': '/en-ca/author/scott-selikoff/857486/'}],\n",
       "  'num_authors': 2,\n",
       "  'series': ' Series',\n",
       "  'series_number': '',\n",
       "  'has_series': False,\n",
       "  'series_url': '',\n",
       "  'publisher': 'Wiley',\n",
       "  'publication_year': '2014',\n",
       "  'price': 'CA$63.50',\n",
       "  'desktop_short_description': 'Full coverage of functional programming and all OCA Java Programmer exam objectives    OCA, Oracle Certified Associate Java SE 8 Programmer I Study Guide, Exam 1Z0-808  is a comprehensive study guide for those taking the Oracle Certified Associate Java SE 8 Programmer I exam (1Z0-808). With complete coverage of 100% of the exam objectives, this...',\n",
       "  'mobile_short_description': 'Full coverage of functional programming and all OCA Java Programmer exam objectives    OCA, Oracle...',\n",
       "  'is_preorder': False,\n",
       "  'is_available': True,\n",
       "  'preorder_url': '/account/preorder/?bookId=1882237',\n",
       "  'add_to_cart_url': '/cart/add/1882237/',\n",
       "  'currency_symbol': 'CA$',\n",
       "  'price_number': 71.99}]"
      ]
     },
     "execution_count": 26,
     "metadata": {},
     "output_type": "execute_result"
    }
   ],
   "source": [
    "results_json =json_response[\"books\"]\n",
    "results_json"
   ]
  },
  {
   "cell_type": "code",
   "execution_count": 27,
   "id": "6ee66958",
   "metadata": {},
   "outputs": [
    {
     "data": {
      "text/plain": [
       "10"
      ]
     },
     "execution_count": 27,
     "metadata": {},
     "output_type": "execute_result"
    }
   ],
   "source": [
    "len(results_json)\n",
    "\n",
    "#this shows we have made the right selection"
   ]
  },
  {
   "cell_type": "code",
   "execution_count": 34,
   "id": "e4b62f58",
   "metadata": {},
   "outputs": [
    {
     "data": {
      "text/plain": [
       "{'id': 209755044,\n",
       " 'book_url': '/en-ca/book/209755044/dark-data/david-j-hand/',\n",
       " 'image_url': 'https://image.ebooks.com/previews/209/209755/209755044/209755044-sml-1.jpg',\n",
       " 'image_alt_tag': 'Dark Data: Why What You Don&#x2019;t Know Matters',\n",
       " 'title': 'Dark Data',\n",
       " 'edition': '',\n",
       " 'subtitle': 'Why What You Don’t Know Matters',\n",
       " 'authors': [{'author_name': 'David J. Hand',\n",
       "   'author_url': '/en-ca/author/david-j.-hand/165723/'}],\n",
       " 'num_authors': 1,\n",
       " 'series': ' Series',\n",
       " 'series_number': '',\n",
       " 'has_series': False,\n",
       " 'series_url': '',\n",
       " 'publisher': 'Princeton University Press',\n",
       " 'publication_year': '2020',\n",
       " 'price': 'CA$37.30',\n",
       " 'desktop_short_description': 'A practical guide to making good decisions in a world of missing data   In the era of big data, it is easy to imagine that we have all the information we need to make good decisions. But in fact the data we have are never complete, and may be only the tip of the iceberg. Just as much of the universe is composed of dark matter, invisible to us but...',\n",
       " 'mobile_short_description': 'A practical guide to making good decisions in a world of missing data   In the era of big data, it...',\n",
       " 'is_preorder': False,\n",
       " 'is_available': True,\n",
       " 'preorder_url': '/account/preorder/?bookId=209755044',\n",
       " 'add_to_cart_url': '/cart/add/209755044/',\n",
       " 'currency_symbol': 'CA$',\n",
       " 'price_number': 40.99}"
      ]
     },
     "execution_count": 34,
     "metadata": {},
     "output_type": "execute_result"
    }
   ],
   "source": [
    "# now we need to grab the information we need for one of the books\n",
    "results_json[0]"
   ]
  },
  {
   "cell_type": "code",
   "execution_count": 35,
   "id": "d9db506f",
   "metadata": {},
   "outputs": [
    {
     "data": {
      "text/plain": [
       "'Dark Data'"
      ]
     },
     "execution_count": 35,
     "metadata": {},
     "output_type": "execute_result"
    }
   ],
   "source": [
    "#title\n",
    "results_json[0][\"title\"]"
   ]
  },
  {
   "cell_type": "code",
   "execution_count": 37,
   "id": "a0b89c29",
   "metadata": {},
   "outputs": [
    {
     "data": {
      "text/plain": [
       "'Why What You Don’t Know Matters'"
      ]
     },
     "execution_count": 37,
     "metadata": {},
     "output_type": "execute_result"
    }
   ],
   "source": [
    "# subtitle\n",
    "\n",
    "results_json[0][\"subtitle\"]"
   ]
  },
  {
   "cell_type": "code",
   "execution_count": 43,
   "id": "f68923a8",
   "metadata": {},
   "outputs": [
    {
     "data": {
      "text/plain": [
       "'David J. Hand'"
      ]
     },
     "execution_count": 43,
     "metadata": {},
     "output_type": "execute_result"
    }
   ],
   "source": [
    "# author/authors\n",
    "results_json[0][\"authors\"][0][\"author_name\"]"
   ]
  },
  {
   "cell_type": "code",
   "execution_count": 44,
   "id": "0ff33f1e",
   "metadata": {},
   "outputs": [
    {
     "data": {
      "text/plain": [
       "'Princeton University Press'"
      ]
     },
     "execution_count": 44,
     "metadata": {},
     "output_type": "execute_result"
    }
   ],
   "source": [
    "# publisher\n",
    "results_json[0][\"publisher\"]"
   ]
  },
  {
   "cell_type": "code",
   "execution_count": 55,
   "id": "cde0fe84",
   "metadata": {},
   "outputs": [
    {
     "data": {
      "text/plain": [
       "'2020'"
      ]
     },
     "execution_count": 55,
     "metadata": {},
     "output_type": "execute_result"
    }
   ],
   "source": [
    "# publication year\n",
    "results_json[0][\"publication_year\"]"
   ]
  },
  {
   "cell_type": "code",
   "execution_count": 46,
   "id": "03fc57fc",
   "metadata": {},
   "outputs": [
    {
     "data": {
      "text/plain": [
       "'CA$37.30'"
      ]
     },
     "execution_count": 46,
     "metadata": {},
     "output_type": "execute_result"
    }
   ],
   "source": [
    "# price\n",
    "results_json[0][\"price\"]"
   ]
  },
  {
   "cell_type": "markdown",
   "id": "39da0135",
   "metadata": {},
   "source": [
    "### Putting up a for loop to get the info of all 10 books"
   ]
  },
  {
   "cell_type": "code",
   "execution_count": 72,
   "id": "be5a0eaa",
   "metadata": {},
   "outputs": [],
   "source": [
    "title = []\n",
    "subtitle = []\n",
    "author = []\n",
    "publisher = []\n",
    "publication_year = []\n",
    "price = []\n",
    "\n",
    "\n",
    "for result in results_json:\n",
    "    title.append(result[\"title\"])\n",
    "    subtitle.append(result[\"subtitle\"])\n",
    "    author.append(result[\"authors\"][0][\"author_name\"])\n",
    "    publisher.append(result[\"publisher\"])\n",
    "    publication_year.append(result[\"publication_year\"])\n",
    "    price.append(result[\"price\"])"
   ]
  },
  {
   "cell_type": "code",
   "execution_count": 73,
   "id": "a339eec6",
   "metadata": {},
   "outputs": [
    {
     "data": {
      "text/plain": [
       "10"
      ]
     },
     "execution_count": 73,
     "metadata": {},
     "output_type": "execute_result"
    }
   ],
   "source": [
    "len(publication_year)"
   ]
  },
  {
   "cell_type": "markdown",
   "id": "b06ec9df",
   "metadata": {},
   "source": [
    "### Turning our data into a pandas dataframe"
   ]
  },
  {
   "cell_type": "code",
   "execution_count": 76,
   "id": "bbd73d0c",
   "metadata": {},
   "outputs": [],
   "source": [
    "books_df = pd.DataFrame ({\"title\": title,\n",
    "                          \"subtitle\": subtitle,\n",
    "                          \"author\": author,\n",
    "                          \"publisher\": publisher,\n",
    "                          \"publication_year\": publication_year,\n",
    "                          \"price\": price})"
   ]
  },
  {
   "cell_type": "code",
   "execution_count": 75,
   "id": "fc8a6e00",
   "metadata": {},
   "outputs": [
    {
     "data": {
      "text/html": [
       "<div>\n",
       "<style scoped>\n",
       "    .dataframe tbody tr th:only-of-type {\n",
       "        vertical-align: middle;\n",
       "    }\n",
       "\n",
       "    .dataframe tbody tr th {\n",
       "        vertical-align: top;\n",
       "    }\n",
       "\n",
       "    .dataframe thead th {\n",
       "        text-align: right;\n",
       "    }\n",
       "</style>\n",
       "<table border=\"1\" class=\"dataframe\">\n",
       "  <thead>\n",
       "    <tr style=\"text-align: right;\">\n",
       "      <th></th>\n",
       "      <th>title</th>\n",
       "      <th>subtitle</th>\n",
       "      <th>author</th>\n",
       "      <th>publisher</th>\n",
       "      <th>publication_year</th>\n",
       "      <th>price</th>\n",
       "    </tr>\n",
       "  </thead>\n",
       "  <tbody>\n",
       "    <tr>\n",
       "      <th>0</th>\n",
       "      <td>Dark Data</td>\n",
       "      <td>Why What You Don’t Know Matters</td>\n",
       "      <td>David J. Hand</td>\n",
       "      <td>Princeton University Press</td>\n",
       "      <td>2020</td>\n",
       "      <td>CA$37.30</td>\n",
       "    </tr>\n",
       "    <tr>\n",
       "      <th>1</th>\n",
       "      <td>HTML and CSS</td>\n",
       "      <td>Design and Build Websites</td>\n",
       "      <td>Jon Duckett</td>\n",
       "      <td>Wiley</td>\n",
       "      <td>2011</td>\n",
       "      <td>CA$31.50</td>\n",
       "    </tr>\n",
       "    <tr>\n",
       "      <th>2</th>\n",
       "      <td>Linux Basics for Hackers</td>\n",
       "      <td>Getting Started with Networking, Scripting, an...</td>\n",
       "      <td>OccupyTheWeb</td>\n",
       "      <td>No Starch Press</td>\n",
       "      <td>2018</td>\n",
       "      <td>CA$36.95</td>\n",
       "    </tr>\n",
       "    <tr>\n",
       "      <th>3</th>\n",
       "      <td>Effective SEO and Content Marketing</td>\n",
       "      <td>The Ultimate Guide for Maximizing Free Web Tra...</td>\n",
       "      <td>Nicholas Papagiannis</td>\n",
       "      <td>Wiley</td>\n",
       "      <td>2020</td>\n",
       "      <td>CA$47.50</td>\n",
       "    </tr>\n",
       "    <tr>\n",
       "      <th>4</th>\n",
       "      <td>The Dragonfly Effect</td>\n",
       "      <td>Quick, Effective, and Powerful Ways To Use Soc...</td>\n",
       "      <td>Jennifer Aaker</td>\n",
       "      <td>Wiley</td>\n",
       "      <td>2010</td>\n",
       "      <td>CA$26.99</td>\n",
       "    </tr>\n",
       "    <tr>\n",
       "      <th>5</th>\n",
       "      <td>Business Analysis</td>\n",
       "      <td></td>\n",
       "      <td>Debra Paul</td>\n",
       "      <td>BCS Learning &amp; Development Limited</td>\n",
       "      <td>2014</td>\n",
       "      <td>CA$57.87</td>\n",
       "    </tr>\n",
       "    <tr>\n",
       "      <th>6</th>\n",
       "      <td>The Official (ISC)2 Guide to the CISSP CBK Ref...</td>\n",
       "      <td></td>\n",
       "      <td>John Warsinske</td>\n",
       "      <td>Wiley</td>\n",
       "      <td>2019</td>\n",
       "      <td>CA$97.20</td>\n",
       "    </tr>\n",
       "    <tr>\n",
       "      <th>7</th>\n",
       "      <td>Patterns, Principles, and Practices of Domain-...</td>\n",
       "      <td></td>\n",
       "      <td>Scott Millett</td>\n",
       "      <td>Wiley</td>\n",
       "      <td>2015</td>\n",
       "      <td>CA$63.50</td>\n",
       "    </tr>\n",
       "    <tr>\n",
       "      <th>8</th>\n",
       "      <td>CompTIA Security+ SY0-601 Exam Cram</td>\n",
       "      <td></td>\n",
       "      <td>Martin M. Weiss</td>\n",
       "      <td>Pearson Education</td>\n",
       "      <td>2020</td>\n",
       "      <td>CA$45.11</td>\n",
       "    </tr>\n",
       "    <tr>\n",
       "      <th>9</th>\n",
       "      <td>OCA: Oracle Certified Associate Java SE 8 Prog...</td>\n",
       "      <td>Exam 1Z0-808</td>\n",
       "      <td>Jeanne Boyarsky</td>\n",
       "      <td>Wiley</td>\n",
       "      <td>2014</td>\n",
       "      <td>CA$63.50</td>\n",
       "    </tr>\n",
       "  </tbody>\n",
       "</table>\n",
       "</div>"
      ],
      "text/plain": [
       "                                               title  \\\n",
       "0                                          Dark Data   \n",
       "1                                       HTML and CSS   \n",
       "2                           Linux Basics for Hackers   \n",
       "3                Effective SEO and Content Marketing   \n",
       "4                               The Dragonfly Effect   \n",
       "5                                  Business Analysis   \n",
       "6  The Official (ISC)2 Guide to the CISSP CBK Ref...   \n",
       "7  Patterns, Principles, and Practices of Domain-...   \n",
       "8                CompTIA Security+ SY0-601 Exam Cram   \n",
       "9  OCA: Oracle Certified Associate Java SE 8 Prog...   \n",
       "\n",
       "                                            subtitle                author  \\\n",
       "0                    Why What You Don’t Know Matters         David J. Hand   \n",
       "1                          Design and Build Websites           Jon Duckett   \n",
       "2  Getting Started with Networking, Scripting, an...          OccupyTheWeb   \n",
       "3  The Ultimate Guide for Maximizing Free Web Tra...  Nicholas Papagiannis   \n",
       "4  Quick, Effective, and Powerful Ways To Use Soc...        Jennifer Aaker   \n",
       "5                                                               Debra Paul   \n",
       "6                                                           John Warsinske   \n",
       "7                                                            Scott Millett   \n",
       "8                                                          Martin M. Weiss   \n",
       "9                                       Exam 1Z0-808       Jeanne Boyarsky   \n",
       "\n",
       "                            publisher publication_year     price  \n",
       "0          Princeton University Press             2020  CA$37.30  \n",
       "1                               Wiley             2011  CA$31.50  \n",
       "2                     No Starch Press             2018  CA$36.95  \n",
       "3                               Wiley             2020  CA$47.50  \n",
       "4                               Wiley             2010  CA$26.99  \n",
       "5  BCS Learning & Development Limited             2014  CA$57.87  \n",
       "6                               Wiley             2019  CA$97.20  \n",
       "7                               Wiley             2015  CA$63.50  \n",
       "8                   Pearson Education             2020  CA$45.11  \n",
       "9                               Wiley             2014  CA$63.50  "
      ]
     },
     "execution_count": 75,
     "metadata": {},
     "output_type": "execute_result"
    }
   ],
   "source": [
    "books_df"
   ]
  },
  {
   "cell_type": "markdown",
   "id": "6cd2b316",
   "metadata": {},
   "source": [
    "### store data to an excel file\n"
   ]
  },
  {
   "cell_type": "code",
   "execution_count": 81,
   "id": "36aecb7f",
   "metadata": {},
   "outputs": [],
   "source": [
    "books_df.to_excel(\"firstpagebooks.xlsx\", index = False)"
   ]
  },
  {
   "cell_type": "code",
   "execution_count": null,
   "id": "cfa6038f",
   "metadata": {},
   "outputs": [],
   "source": []
  }
 ],
 "metadata": {
  "kernelspec": {
   "display_name": "Python 3",
   "language": "python",
   "name": "python3"
  },
  "language_info": {
   "codemirror_mode": {
    "name": "ipython",
    "version": 3
   },
   "file_extension": ".py",
   "mimetype": "text/x-python",
   "name": "python",
   "nbconvert_exporter": "python",
   "pygments_lexer": "ipython3",
   "version": "3.8.8"
  }
 },
 "nbformat": 4,
 "nbformat_minor": 5
}
